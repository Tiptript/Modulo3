{
 "cells": [
  {
   "cell_type": "code",
   "execution_count": 19,
   "metadata": {},
   "outputs": [
    {
     "data": {
      "text/html": [
       "<div>\n",
       "<style scoped>\n",
       "    .dataframe tbody tr th:only-of-type {\n",
       "        vertical-align: middle;\n",
       "    }\n",
       "\n",
       "    .dataframe tbody tr th {\n",
       "        vertical-align: top;\n",
       "    }\n",
       "\n",
       "    .dataframe thead th {\n",
       "        text-align: right;\n",
       "    }\n",
       "</style>\n",
       "<table border=\"1\" class=\"dataframe\">\n",
       "  <thead>\n",
       "    <tr style=\"text-align: right;\">\n",
       "      <th></th>\n",
       "      <th>id</th>\n",
       "      <th>quantidade</th>\n",
       "    </tr>\n",
       "  </thead>\n",
       "  <tbody>\n",
       "    <tr>\n",
       "      <th>85</th>\n",
       "      <td>412</td>\n",
       "      <td>395</td>\n",
       "    </tr>\n",
       "  </tbody>\n",
       "</table>\n",
       "</div>"
      ],
      "text/plain": [
       "     id quantidade\n",
       "85  412        395"
      ]
     },
     "execution_count": 19,
     "metadata": {},
     "output_type": "execute_result"
    }
   ],
   "source": [
    "# Tratamento do Material Didático\n",
    "\n",
    "import pandas as pd\n",
    "import re\n",
    "\n",
    "df_material_didatico = pd.read_csv('material_didatico.csv')\n",
    "\n",
    "df_material_didatico.rename(columns=\n",
    "    {\n",
    "        'Id': 'id',\n",
    "        'Quantidade': 'quantidade',\n",
    "    }, inplace=True)\n",
    "\n",
    "df_material_didatico['id'] = df_material_didatico['id'].apply(lambda x: str(x).zfill(3))\n",
    "\n",
    "#remove all non-numeric characters\n",
    "df_material_didatico['quantidade'] = df_material_didatico['quantidade'].apply(lambda x: re.sub('[^0-9]', '', str(x)))\n",
    "\n",
    "df_material_invalido = df_material_didatico[df_material_didatico['quantidade'] == '']\n",
    "df_material_didatico = df_material_didatico[df_material_didatico['quantidade'] != '']\n",
    "\n",
    "df_material_invalido.to_csv('material_didatico_invalido.csv', index=False)\n",
    "\n",
    "df_material_didatico.loc[df_material_didatico['id']=='412']"
   ]
  },
  {
   "cell_type": "code",
   "execution_count": null,
   "metadata": {},
   "outputs": [],
   "source": []
  }
 ],
 "metadata": {
  "kernelspec": {
   "display_name": ".venv",
   "language": "python",
   "name": "python3"
  },
  "language_info": {
   "codemirror_mode": {
    "name": "ipython",
    "version": 3
   },
   "file_extension": ".py",
   "mimetype": "text/x-python",
   "name": "python",
   "nbconvert_exporter": "python",
   "pygments_lexer": "ipython3",
   "version": "3.11.3"
  },
  "orig_nbformat": 4
 },
 "nbformat": 4,
 "nbformat_minor": 2
}
