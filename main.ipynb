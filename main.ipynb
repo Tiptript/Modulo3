{
 "cells": [
  {
   "cell_type": "markdown",
   "metadata": {},
   "source": [
    "## Realizando Imports"
   ]
  },
  {
   "cell_type": "code",
   "execution_count": 190,
   "metadata": {},
   "outputs": [],
   "source": [
    "import re\n",
    "import unicodedata\n",
    "import pandas as pd\n",
    "from unidecode import unidecode\n",
    "from unicodedata import normalize"
   ]
  },
  {
   "cell_type": "markdown",
   "metadata": {},
   "source": [
    "## Leituras dos CSV files"
   ]
  },
  {
   "cell_type": "code",
   "execution_count": 191,
   "metadata": {},
   "outputs": [],
   "source": [
    "df_escolas = pd.read_csv(\"data/escolas.csv\")\n",
    "df_material = pd.read_csv(\"data/material_didatico.csv\")\n",
    "df_sub = pd.read_csv(\"data/subprefeituras.csv\")"
   ]
  },
  {
   "cell_type": "markdown",
   "metadata": {},
   "source": [
    "## Definições das funções"
   ]
  },
  {
   "cell_type": "code",
   "execution_count": 192,
   "metadata": {},
   "outputs": [],
   "source": [
    "\n",
    "def short_to_full_tag(original_str: str) -> str:\n",
    "    address_mapping = {\n",
    "        \"R.\": \"Rua\",\n",
    "        \"Av.\": \"Avenida\",\n",
    "        \"Pça.\": \"Praça\",\n",
    "        \"Estr.\": \"Estrada\"\n",
    "    }\n",
    "    \n",
    "    short_tag, address = original_str.split(maxsplit=1)\n",
    "    if short_tag in address_mapping.keys():\n",
    "        return f\"{address_mapping[short_tag]} {address}\"\n",
    "    else:\n",
    "        return original_str\n",
    "    \n",
    "def fix_names(name: str) -> str:\n",
    "    replacements = {\n",
    "        \"E.M.\": \"ESCOLA MUNICIPAL\",\n",
    "        \"CIEP\": \"CENTRO INTEGRADO DE EDUCAÇÃO PÚBLICA\",\n",
    "        \"EM\": \"ESCOLA MUNICIPAL\",\n",
    "        \"e.m.\": \"ESCOLA MUNICIPAL\",\n",
    "        \"E.M\": \"ESCOLA MUNICIPAL\"\n",
    "    }\n",
    "\n",
    "    for abbreviation, replacement in replacements.items():\n",
    "        if name.startswith(abbreviation):\n",
    "            return name.replace(abbreviation, replacement, 1)\n",
    "\n",
    "    return name\n",
    "\n",
    "def type_school(name: str) -> str:\n",
    "    if \"ESCOLA MUNICIPAL\" in name:\n",
    "        return \"EM\"\n",
    "    elif \"CENTRO INTEGRADO DE EDUCAÇÃO PÚBLICA\" in name:\n",
    "        return \"CIEP\"\n",
    "    elif \"COLÉGIO\" in name:\n",
    "        return \"COLÉGIO\"\n",
    "    else:\n",
    "        return \"Desconhecido\"\n",
    "    \n",
    "def remove_acentos(txt: str) -> str:\n",
    "    return normalize('NFKD', txt).encode('ASCII', 'ignore').decode('ASCII')\n",
    "\n",
    "\n"
   ]
  },
  {
   "cell_type": "markdown",
   "metadata": {},
   "source": [
    "## Criação das listas"
   ]
  },
  {
   "cell_type": "code",
   "execution_count": 193,
   "metadata": {},
   "outputs": [],
   "source": [
    "normalized_address_list = []\n",
    "address_names = []\n",
    "address_numbers = []"
   ]
  },
  {
   "cell_type": "markdown",
   "metadata": {},
   "source": [
    "## Tratamento do df_escolas"
   ]
  },
  {
   "cell_type": "code",
   "execution_count": 194,
   "metadata": {},
   "outputs": [
    {
     "data": {
      "text/html": [
       "<div>\n",
       "<style scoped>\n",
       "    .dataframe tbody tr th:only-of-type {\n",
       "        vertical-align: middle;\n",
       "    }\n",
       "\n",
       "    .dataframe tbody tr th {\n",
       "        vertical-align: top;\n",
       "    }\n",
       "\n",
       "    .dataframe thead th {\n",
       "        text-align: right;\n",
       "    }\n",
       "</style>\n",
       "<table border=\"1\" class=\"dataframe\">\n",
       "  <thead>\n",
       "    <tr style=\"text-align: right;\">\n",
       "      <th></th>\n",
       "      <th>id</th>\n",
       "      <th>escolas_postos</th>\n",
       "      <th>bairro</th>\n",
       "      <th>endereco</th>\n",
       "      <th>lat</th>\n",
       "      <th>lon</th>\n",
       "      <th>logradouro</th>\n",
       "      <th>numero_end</th>\n",
       "      <th>tipo_escola</th>\n",
       "    </tr>\n",
       "  </thead>\n",
       "  <tbody>\n",
       "    <tr>\n",
       "      <th>0</th>\n",
       "      <td>178</td>\n",
       "      <td>CENTRO INTEGRADO DE EDUCAÇÃO PÚBLICA HENFIL</td>\n",
       "      <td>CAJU</td>\n",
       "      <td>RUA CARLOS SEIDL S/No</td>\n",
       "      <td>-22,880888</td>\n",
       "      <td>-43,225326</td>\n",
       "      <td>RUA CARLOS SEIDL</td>\n",
       "      <td>S/N</td>\n",
       "      <td>CIEP</td>\n",
       "    </tr>\n",
       "    <tr>\n",
       "      <th>1</th>\n",
       "      <td>634</td>\n",
       "      <td>ESCOLA MUNICIPAL ALICE DO AMARAL PEIXOTO</td>\n",
       "      <td>BENFICA</td>\n",
       "      <td>RUA EBANO 187</td>\n",
       "      <td>-22,889574</td>\n",
       "      <td>-43,236202</td>\n",
       "      <td>RUA EBANO</td>\n",
       "      <td>187</td>\n",
       "      <td>EM</td>\n",
       "    </tr>\n",
       "    <tr>\n",
       "      <th>2</th>\n",
       "      <td>483</td>\n",
       "      <td>ESCOLA MUNICIPAL CELESTINO SILVA</td>\n",
       "      <td>CENTRO</td>\n",
       "      <td>RUA DO LAVRADIO 56</td>\n",
       "      <td>-22,909293</td>\n",
       "      <td>-43,183579</td>\n",
       "      <td>RUA DO LAVRADIO</td>\n",
       "      <td>56</td>\n",
       "      <td>EM</td>\n",
       "    </tr>\n",
       "    <tr>\n",
       "      <th>3</th>\n",
       "      <td>476</td>\n",
       "      <td>ESCOLA MUNICIPAL FLORIANO PEIXOTO</td>\n",
       "      <td>SAO CRISTOVAO</td>\n",
       "      <td>PRACA ARGENTINA 20</td>\n",
       "      <td>-22,897629</td>\n",
       "      <td>-43,227456</td>\n",
       "      <td>PRACA ARGENTINA</td>\n",
       "      <td>20</td>\n",
       "      <td>EM</td>\n",
       "    </tr>\n",
       "    <tr>\n",
       "      <th>4</th>\n",
       "      <td>132</td>\n",
       "      <td>ESCOLA MUNICIPAL PEREIRA PASSOS</td>\n",
       "      <td>RIO COMPRIDO</td>\n",
       "      <td>PRACA CONDESSA PAULO DE FRONTIN 45</td>\n",
       "      <td>-22,924412</td>\n",
       "      <td>-43,208579</td>\n",
       "      <td>PRACA CONDESSA PAULO DE FRONTIN</td>\n",
       "      <td>45</td>\n",
       "      <td>EM</td>\n",
       "    </tr>\n",
       "  </tbody>\n",
       "</table>\n",
       "</div>"
      ],
      "text/plain": [
       "    id                               escolas_postos         bairro  \\\n",
       "0  178  CENTRO INTEGRADO DE EDUCAÇÃO PÚBLICA HENFIL           CAJU   \n",
       "1  634     ESCOLA MUNICIPAL ALICE DO AMARAL PEIXOTO        BENFICA   \n",
       "2  483             ESCOLA MUNICIPAL CELESTINO SILVA         CENTRO   \n",
       "3  476            ESCOLA MUNICIPAL FLORIANO PEIXOTO  SAO CRISTOVAO   \n",
       "4  132              ESCOLA MUNICIPAL PEREIRA PASSOS   RIO COMPRIDO   \n",
       "\n",
       "                             endereco         lat         lon  \\\n",
       "0               RUA CARLOS SEIDL S/No  -22,880888  -43,225326   \n",
       "1                       RUA EBANO 187  -22,889574  -43,236202   \n",
       "2                  RUA DO LAVRADIO 56  -22,909293  -43,183579   \n",
       "3                  PRACA ARGENTINA 20  -22,897629  -43,227456   \n",
       "4  PRACA CONDESSA PAULO DE FRONTIN 45  -22,924412  -43,208579   \n",
       "\n",
       "                        logradouro numero_end tipo_escola  \n",
       "0                 RUA CARLOS SEIDL        S/N        CIEP  \n",
       "1                        RUA EBANO        187          EM  \n",
       "2                  RUA DO LAVRADIO         56          EM  \n",
       "3                  PRACA ARGENTINA         20          EM  \n",
       "4  PRACA CONDESSA PAULO DE FRONTIN         45          EM  "
      ]
     },
     "execution_count": 194,
     "metadata": {},
     "output_type": "execute_result"
    }
   ],
   "source": [
    "df_escolas.columns = [\"id\", \"escolas_postos\", \"bairro\", \"endereco\", \"lat\", \"lon\"]\n",
    "address_list = df_escolas[\"endereco\"].values.tolist()\n",
    "df_escolas[\"endereco\"] = df_escolas[\"endereco\"].apply(short_to_full_tag).str.upper()\n",
    "\n",
    "for address in df_escolas[\"endereco\"].values.tolist():\n",
    "    normalized_address = unicodedata.normalize(\"NFKD\", address).encode(\"ASCII\", errors=\"ignore\").decode(\"ASCII\")\n",
    "    \n",
    "    normalized_address_list.append(normalized_address.replace(\",\", \"\"))\n",
    "    \n",
    "df_escolas[\"endereco\"] = normalized_address_list\n",
    "df_escolas.head()\n",
    "\n",
    "for i, address in enumerate(df_escolas[\"endereco\"].values.tolist()):\n",
    "    address_name = re.sub(r\"\\d+|S/No\", \"\", address)\n",
    "    try:\n",
    "        address_number = re.search(r\"\\d+|S/No\", address).group().replace(\"S/No\", \"S/N\")\n",
    "    except AttributeError:\n",
    "        address_number = \"S/N\"\n",
    "\n",
    "    address_names.append(address_name.strip())\n",
    "    address_numbers.append(address_number.strip())\n",
    "    \n",
    "df_escolas[\"logradouro\"] = address_names\n",
    "df_escolas[\"numero_end\"] = address_numbers\n",
    "\n",
    "df_escolas['id'] = df_escolas['id'].apply(lambda x: str(x).zfill(3))\n",
    "\n",
    "df_escolas.loc[df_escolas['bairro']=='RECREIO','bairro'] = 'RECREIO DOS BANDEIRANTES'\n",
    "df_escolas.loc[df_escolas['bairro']=='RIO DAS PEDRAS', 'bairro'] = 'JACAREPAGUA'\n",
    "df_escolas.loc[df_escolas['bairro']=='FREGUESIA JPA', 'bairro'] = 'Freguesia (Jacarepaguá)'\n",
    "df_escolas.loc[df_escolas['bairro']=='AUGUSTO VASCONCELOS', 'bairro'] = 'Santíssimo'\n",
    "df_escolas.loc[df_escolas['bairro']=='NOVA SEPETIBA', 'bairro'] = 'Sepetiba'\n",
    "df_escolas.loc[df_escolas['bairro'].str.contains('MARACANÃ'), 'bairro'] = 'Vila Isabel'\n",
    "\n",
    "df_escolas['bairro'] = df_escolas['bairro'].apply(remove_acentos)\n",
    "df_escolas['bairro'] = df_escolas['bairro'].str.upper()\n",
    "\n",
    "df_escolas['escolas_postos'] = df_escolas['escolas_postos'].apply(fix_names)\n",
    "df_escolas['tipo_escola'] = df_escolas['escolas_postos'].apply(type_school)\n",
    "\n",
    "df_escolas[\"bairro\"] = df_escolas[\"bairro\"].str.upper().apply(unidecode)\n",
    "\n",
    "df_escolas.head()"
   ]
  },
  {
   "cell_type": "markdown",
   "metadata": {},
   "source": [
    "## Tratamento do df_sub"
   ]
  },
  {
   "cell_type": "code",
   "execution_count": 195,
   "metadata": {},
   "outputs": [],
   "source": [
    "#nome\n",
    "df_sub.loc[df_sub['nome'] == 'Osvaldo Cruz', 'nome'] = 'OSWALDO CRUZ'\n",
    "df_sub['nome'] = df_sub['nome'].str.upper()\n",
    "df_sub['nome'] = df_sub['nome'].apply(remove_acentos)\n",
    "\n",
    "# subprefeitura\n",
    "df_sub['subprefeitura'] = df_sub['subprefeitura'].str.upper()\n"
   ]
  },
  {
   "cell_type": "markdown",
   "metadata": {},
   "source": [
    "## Tratamento do df_material"
   ]
  },
  {
   "cell_type": "code",
   "execution_count": 196,
   "metadata": {},
   "outputs": [],
   "source": [
    "\n",
    "df_material.rename(columns=\n",
    "    {\n",
    "        'Id': 'id',\n",
    "        'Quantidade': 'quantidade',\n",
    "    }, inplace=True)\n",
    "\n",
    "df_material['id'] = df_material['id'].apply(lambda x: str(x).zfill(3))\n",
    "\n",
    "df_material['quantidade'] = df_material['quantidade'].apply(lambda x: re.sub('[^0-9]', '', str(x)))\n",
    "df_material_invalido = df_material[df_material['quantidade'] == '']\n",
    "df_material = df_material[df_material['quantidade'] != '']\n"
   ]
  },
  {
   "cell_type": "markdown",
   "metadata": {},
   "source": [
    "## Concatenação dos df's"
   ]
  },
  {
   "cell_type": "code",
   "execution_count": 197,
   "metadata": {},
   "outputs": [],
   "source": [
    "df_merged = df_escolas.merge(df_sub, left_on='bairro', right_on='nome', how='left')\n",
    "df_merged.drop(columns=['nome'], inplace=True)  \n",
    "df_merged = df_merged.merge(df_material, left_on=\"id\", right_on=\"id\", how=\"left\")\n",
    "df_merged.to_csv('', index=False)"
   ]
  },
  {
   "cell_type": "code",
   "execution_count": 198,
   "metadata": {},
   "outputs": [
    {
     "data": {
      "text/html": [
       "<div>\n",
       "<style scoped>\n",
       "    .dataframe tbody tr th:only-of-type {\n",
       "        vertical-align: middle;\n",
       "    }\n",
       "\n",
       "    .dataframe tbody tr th {\n",
       "        vertical-align: top;\n",
       "    }\n",
       "\n",
       "    .dataframe thead th {\n",
       "        text-align: right;\n",
       "    }\n",
       "</style>\n",
       "<table border=\"1\" class=\"dataframe\">\n",
       "  <thead>\n",
       "    <tr style=\"text-align: right;\">\n",
       "      <th></th>\n",
       "      <th>subprefeitura</th>\n",
       "      <th>quantidade</th>\n",
       "    </tr>\n",
       "  </thead>\n",
       "  <tbody>\n",
       "    <tr>\n",
       "      <th>0</th>\n",
       "      <td>BARRA DA TIJUCA</td>\n",
       "      <td>266.0</td>\n",
       "    </tr>\n",
       "    <tr>\n",
       "      <th>1</th>\n",
       "      <td>CENTRO</td>\n",
       "      <td>3771.0</td>\n",
       "    </tr>\n",
       "    <tr>\n",
       "      <th>2</th>\n",
       "      <td>GRANDE BANGU</td>\n",
       "      <td>4115.0</td>\n",
       "    </tr>\n",
       "    <tr>\n",
       "      <th>3</th>\n",
       "      <td>GRANDE TIJUCA</td>\n",
       "      <td>2616.0</td>\n",
       "    </tr>\n",
       "    <tr>\n",
       "      <th>4</th>\n",
       "      <td>ILHAS</td>\n",
       "      <td>741.0</td>\n",
       "    </tr>\n",
       "    <tr>\n",
       "      <th>5</th>\n",
       "      <td>JACAREPAGUÁ</td>\n",
       "      <td>2973.0</td>\n",
       "    </tr>\n",
       "    <tr>\n",
       "      <th>6</th>\n",
       "      <td>ZONA NORTE</td>\n",
       "      <td>16665.0</td>\n",
       "    </tr>\n",
       "    <tr>\n",
       "      <th>7</th>\n",
       "      <td>ZONA OESTE</td>\n",
       "      <td>9027.0</td>\n",
       "    </tr>\n",
       "    <tr>\n",
       "      <th>8</th>\n",
       "      <td>ZONA SUL</td>\n",
       "      <td>4304.0</td>\n",
       "    </tr>\n",
       "  </tbody>\n",
       "</table>\n",
       "</div>"
      ],
      "text/plain": [
       "     subprefeitura  quantidade\n",
       "0  BARRA DA TIJUCA       266.0\n",
       "1           CENTRO      3771.0\n",
       "2     GRANDE BANGU      4115.0\n",
       "3    GRANDE TIJUCA      2616.0\n",
       "4            ILHAS       741.0\n",
       "5      JACAREPAGUÁ      2973.0\n",
       "6       ZONA NORTE     16665.0\n",
       "7       ZONA OESTE      9027.0\n",
       "8         ZONA SUL      4304.0"
      ]
     },
     "execution_count": 198,
     "metadata": {},
     "output_type": "execute_result"
    }
   ],
   "source": [
    "df_merged['quantidade'] = pd.to_numeric(df_merged['quantidade'])\n",
    "df_material_por_subprefeitura = df_merged.groupby(df_merged['subprefeitura']).agg({'quantidade': 'sum'}).reset_index()\n",
    "df_material_por_subprefeitura\n",
    "df_material_por_subprefeitura.to_csv('', index=False)"
   ]
  }
 ],
 "metadata": {
  "kernelspec": {
   "display_name": "Python 3",
   "language": "python",
   "name": "python3"
  },
  "language_info": {
   "codemirror_mode": {
    "name": "ipython",
    "version": 3
   },
   "file_extension": ".py",
   "mimetype": "text/x-python",
   "name": "python",
   "nbconvert_exporter": "python",
   "pygments_lexer": "ipython3",
   "version": "3.11.4"
  },
  "orig_nbformat": 4
 },
 "nbformat": 4,
 "nbformat_minor": 2
}
