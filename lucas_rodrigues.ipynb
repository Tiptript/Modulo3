{
 "cells": [
  {
   "cell_type": "markdown",
   "source": [
    "### Jupyter Notebook - Pré-processamento\n",
    "#### Feito por Lucas D. F. Rodrigues.\n",
    "\n",
    "1. Normalização textual (_e.g._ remoção de acentuação)\n",
    "2. Transformação textual: _uppercase_\n",
    "3. Substituição textual (_e.g._ siglas)"
   ],
   "metadata": {
    "collapsed": false
   },
   "id": "3d400e0a84a2c019"
  },
  {
   "cell_type": "code",
   "execution_count": 95,
   "outputs": [],
   "source": [
    "import re\n",
    "import unicodedata\n",
    "import pandas as pd"
   ],
   "metadata": {
    "collapsed": false,
    "ExecuteTime": {
     "end_time": "2023-09-13T05:11:48.094406Z",
     "start_time": "2023-09-13T05:11:48.086398Z"
    }
   },
   "id": "initial_id"
  },
  {
   "cell_type": "code",
   "execution_count": 20,
   "outputs": [
    {
     "data": {
      "text/plain": "   uuid                               escolas_postos         bairro  \\\n0   178  CENTRO INTEGRADO DE EDUCAÇÃO PÚBLICA HENFIL           CAJU   \n1   634                   EM ALICE DO AMARAL PEIXOTO        BENFICA   \n2   483                           EM CELESTINO SILVA         CENTRO   \n3   476            ESCOLA MUNICIPAL FLORIANO PEIXOTO  SÃO CRISTÓVÃO   \n4   132                            EM PEREIRA PASSOS   RIO COMPRIDO   \n\n                             endereco         lat         lon  \n0               Rua Carlos Seidl S/Nº  -22,880888  -43,225326  \n1                       Rua Ébano 187  -22,889574  -43,236202  \n2                  R. do Lavradio, 56  -22,909293  -43,183579  \n3                  Praça Argentina 20  -22,897629  -43,227456  \n4  Praça Condessa Paulo de Frontin 45  -22,924412  -43,208579  ",
      "text/html": "<div>\n<style scoped>\n    .dataframe tbody tr th:only-of-type {\n        vertical-align: middle;\n    }\n\n    .dataframe tbody tr th {\n        vertical-align: top;\n    }\n\n    .dataframe thead th {\n        text-align: right;\n    }\n</style>\n<table border=\"1\" class=\"dataframe\">\n  <thead>\n    <tr style=\"text-align: right;\">\n      <th></th>\n      <th>uuid</th>\n      <th>escolas_postos</th>\n      <th>bairro</th>\n      <th>endereco</th>\n      <th>lat</th>\n      <th>lon</th>\n    </tr>\n  </thead>\n  <tbody>\n    <tr>\n      <th>0</th>\n      <td>178</td>\n      <td>CENTRO INTEGRADO DE EDUCAÇÃO PÚBLICA HENFIL</td>\n      <td>CAJU</td>\n      <td>Rua Carlos Seidl S/Nº</td>\n      <td>-22,880888</td>\n      <td>-43,225326</td>\n    </tr>\n    <tr>\n      <th>1</th>\n      <td>634</td>\n      <td>EM ALICE DO AMARAL PEIXOTO</td>\n      <td>BENFICA</td>\n      <td>Rua Ébano 187</td>\n      <td>-22,889574</td>\n      <td>-43,236202</td>\n    </tr>\n    <tr>\n      <th>2</th>\n      <td>483</td>\n      <td>EM CELESTINO SILVA</td>\n      <td>CENTRO</td>\n      <td>R. do Lavradio, 56</td>\n      <td>-22,909293</td>\n      <td>-43,183579</td>\n    </tr>\n    <tr>\n      <th>3</th>\n      <td>476</td>\n      <td>ESCOLA MUNICIPAL FLORIANO PEIXOTO</td>\n      <td>SÃO CRISTÓVÃO</td>\n      <td>Praça Argentina 20</td>\n      <td>-22,897629</td>\n      <td>-43,227456</td>\n    </tr>\n    <tr>\n      <th>4</th>\n      <td>132</td>\n      <td>EM PEREIRA PASSOS</td>\n      <td>RIO COMPRIDO</td>\n      <td>Praça Condessa Paulo de Frontin 45</td>\n      <td>-22,924412</td>\n      <td>-43,208579</td>\n    </tr>\n  </tbody>\n</table>\n</div>"
     },
     "execution_count": 20,
     "metadata": {},
     "output_type": "execute_result"
    }
   ],
   "source": [
    "df_raw = pd.read_csv(\"escolas.csv\")\n",
    "\n",
    "df_raw.columns = [\"uuid\", \"escolas_postos\", \"bairro\", \"endereco\", \"lat\", \"lon\"]\n",
    "df_raw.head()"
   ],
   "metadata": {
    "collapsed": false,
    "ExecuteTime": {
     "end_time": "2023-09-13T04:25:02.920276Z",
     "start_time": "2023-09-13T04:25:02.904722Z"
    }
   },
   "id": "38b69eb32f3775c5"
  },
  {
   "cell_type": "code",
   "execution_count": 21,
   "outputs": [],
   "source": [
    "address_list = df_raw[\"endereco\"].values.tolist()"
   ],
   "metadata": {
    "collapsed": false,
    "ExecuteTime": {
     "end_time": "2023-09-13T04:25:05.734515Z",
     "start_time": "2023-09-13T04:25:05.728533Z"
    }
   },
   "id": "d3cad741a88e7c51"
  },
  {
   "cell_type": "code",
   "execution_count": 22,
   "outputs": [],
   "source": [
    "def short_to_full_tag(original_str: str) -> str:\n",
    "    address_mapping = {\n",
    "        \"R.\": \"Rua\",\n",
    "        \"Av.\": \"Avenida\",\n",
    "        \"Pça.\": \"Praça\",\n",
    "        \"Estr.\": \"Estrada\"\n",
    "    }\n",
    "    \n",
    "    short_tag, address = original_str.split(maxsplit=1)\n",
    "    if short_tag in address_mapping.keys():\n",
    "        return f\"{address_mapping[short_tag]} {address}\"\n",
    "    else:\n",
    "        return original_str"
   ],
   "metadata": {
    "collapsed": false,
    "ExecuteTime": {
     "end_time": "2023-09-13T04:25:06.571008Z",
     "start_time": "2023-09-13T04:25:06.566869Z"
    }
   },
   "id": "55683f13aaba5653"
  },
  {
   "cell_type": "code",
   "execution_count": 23,
   "outputs": [
    {
     "data": {
      "text/plain": "   uuid                               escolas_postos         bairro  \\\n0   178  CENTRO INTEGRADO DE EDUCAÇÃO PÚBLICA HENFIL           CAJU   \n1   634                   EM ALICE DO AMARAL PEIXOTO        BENFICA   \n2   483                           EM CELESTINO SILVA         CENTRO   \n3   476            ESCOLA MUNICIPAL FLORIANO PEIXOTO  SÃO CRISTÓVÃO   \n4   132                            EM PEREIRA PASSOS   RIO COMPRIDO   \n\n                             endereco         lat         lon  \n0               RUA CARLOS SEIDL S/Nº  -22,880888  -43,225326  \n1                       RUA ÉBANO 187  -22,889574  -43,236202  \n2                 RUA DO LAVRADIO, 56  -22,909293  -43,183579  \n3                  PRAÇA ARGENTINA 20  -22,897629  -43,227456  \n4  PRAÇA CONDESSA PAULO DE FRONTIN 45  -22,924412  -43,208579  ",
      "text/html": "<div>\n<style scoped>\n    .dataframe tbody tr th:only-of-type {\n        vertical-align: middle;\n    }\n\n    .dataframe tbody tr th {\n        vertical-align: top;\n    }\n\n    .dataframe thead th {\n        text-align: right;\n    }\n</style>\n<table border=\"1\" class=\"dataframe\">\n  <thead>\n    <tr style=\"text-align: right;\">\n      <th></th>\n      <th>uuid</th>\n      <th>escolas_postos</th>\n      <th>bairro</th>\n      <th>endereco</th>\n      <th>lat</th>\n      <th>lon</th>\n    </tr>\n  </thead>\n  <tbody>\n    <tr>\n      <th>0</th>\n      <td>178</td>\n      <td>CENTRO INTEGRADO DE EDUCAÇÃO PÚBLICA HENFIL</td>\n      <td>CAJU</td>\n      <td>RUA CARLOS SEIDL S/Nº</td>\n      <td>-22,880888</td>\n      <td>-43,225326</td>\n    </tr>\n    <tr>\n      <th>1</th>\n      <td>634</td>\n      <td>EM ALICE DO AMARAL PEIXOTO</td>\n      <td>BENFICA</td>\n      <td>RUA ÉBANO 187</td>\n      <td>-22,889574</td>\n      <td>-43,236202</td>\n    </tr>\n    <tr>\n      <th>2</th>\n      <td>483</td>\n      <td>EM CELESTINO SILVA</td>\n      <td>CENTRO</td>\n      <td>RUA DO LAVRADIO, 56</td>\n      <td>-22,909293</td>\n      <td>-43,183579</td>\n    </tr>\n    <tr>\n      <th>3</th>\n      <td>476</td>\n      <td>ESCOLA MUNICIPAL FLORIANO PEIXOTO</td>\n      <td>SÃO CRISTÓVÃO</td>\n      <td>PRAÇA ARGENTINA 20</td>\n      <td>-22,897629</td>\n      <td>-43,227456</td>\n    </tr>\n    <tr>\n      <th>4</th>\n      <td>132</td>\n      <td>EM PEREIRA PASSOS</td>\n      <td>RIO COMPRIDO</td>\n      <td>PRAÇA CONDESSA PAULO DE FRONTIN 45</td>\n      <td>-22,924412</td>\n      <td>-43,208579</td>\n    </tr>\n  </tbody>\n</table>\n</div>"
     },
     "execution_count": 23,
     "metadata": {},
     "output_type": "execute_result"
    }
   ],
   "source": [
    "df_raw[\"endereco\"] = df_raw[\"endereco\"].apply(short_to_full_tag).str.upper()\n",
    "df_raw.head()"
   ],
   "metadata": {
    "collapsed": false,
    "ExecuteTime": {
     "end_time": "2023-09-13T04:25:08.633689Z",
     "start_time": "2023-09-13T04:25:08.629425Z"
    }
   },
   "id": "884e0382c6d4a510"
  },
  {
   "cell_type": "code",
   "execution_count": 65,
   "outputs": [
    {
     "data": {
      "text/plain": "   uuid                               escolas_postos         bairro  \\\n0   178  CENTRO INTEGRADO DE EDUCAÇÃO PÚBLICA HENFIL           CAJU   \n1   634                   EM ALICE DO AMARAL PEIXOTO        BENFICA   \n2   483                           EM CELESTINO SILVA         CENTRO   \n3   476            ESCOLA MUNICIPAL FLORIANO PEIXOTO  SÃO CRISTÓVÃO   \n4   132                            EM PEREIRA PASSOS   RIO COMPRIDO   \n\n                             endereco         lat         lon  \n0               RUA CARLOS SEIDL S/No  -22,880888  -43,225326  \n1                       RUA EBANO 187  -22,889574  -43,236202  \n2                  RUA DO LAVRADIO 56  -22,909293  -43,183579  \n3                  PRACA ARGENTINA 20  -22,897629  -43,227456  \n4  PRACA CONDESSA PAULO DE FRONTIN 45  -22,924412  -43,208579  ",
      "text/html": "<div>\n<style scoped>\n    .dataframe tbody tr th:only-of-type {\n        vertical-align: middle;\n    }\n\n    .dataframe tbody tr th {\n        vertical-align: top;\n    }\n\n    .dataframe thead th {\n        text-align: right;\n    }\n</style>\n<table border=\"1\" class=\"dataframe\">\n  <thead>\n    <tr style=\"text-align: right;\">\n      <th></th>\n      <th>uuid</th>\n      <th>escolas_postos</th>\n      <th>bairro</th>\n      <th>endereco</th>\n      <th>lat</th>\n      <th>lon</th>\n    </tr>\n  </thead>\n  <tbody>\n    <tr>\n      <th>0</th>\n      <td>178</td>\n      <td>CENTRO INTEGRADO DE EDUCAÇÃO PÚBLICA HENFIL</td>\n      <td>CAJU</td>\n      <td>RUA CARLOS SEIDL S/No</td>\n      <td>-22,880888</td>\n      <td>-43,225326</td>\n    </tr>\n    <tr>\n      <th>1</th>\n      <td>634</td>\n      <td>EM ALICE DO AMARAL PEIXOTO</td>\n      <td>BENFICA</td>\n      <td>RUA EBANO 187</td>\n      <td>-22,889574</td>\n      <td>-43,236202</td>\n    </tr>\n    <tr>\n      <th>2</th>\n      <td>483</td>\n      <td>EM CELESTINO SILVA</td>\n      <td>CENTRO</td>\n      <td>RUA DO LAVRADIO 56</td>\n      <td>-22,909293</td>\n      <td>-43,183579</td>\n    </tr>\n    <tr>\n      <th>3</th>\n      <td>476</td>\n      <td>ESCOLA MUNICIPAL FLORIANO PEIXOTO</td>\n      <td>SÃO CRISTÓVÃO</td>\n      <td>PRACA ARGENTINA 20</td>\n      <td>-22,897629</td>\n      <td>-43,227456</td>\n    </tr>\n    <tr>\n      <th>4</th>\n      <td>132</td>\n      <td>EM PEREIRA PASSOS</td>\n      <td>RIO COMPRIDO</td>\n      <td>PRACA CONDESSA PAULO DE FRONTIN 45</td>\n      <td>-22,924412</td>\n      <td>-43,208579</td>\n    </tr>\n  </tbody>\n</table>\n</div>"
     },
     "execution_count": 65,
     "metadata": {},
     "output_type": "execute_result"
    }
   ],
   "source": [
    "normalized_address_list = []\n",
    "for address in df_raw[\"endereco\"].values.tolist():\n",
    "    normalized_address = unicodedata.normalize(\"NFKD\", address).encode(\"ASCII\", errors=\"ignore\").decode(\"ASCII\")\n",
    "    \n",
    "    normalized_address_list.append(normalized_address.replace(\",\", \"\"))\n",
    "    \n",
    "df_raw[\"endereco\"] = normalized_address_list\n",
    "df_raw.head()"
   ],
   "metadata": {
    "collapsed": false,
    "ExecuteTime": {
     "end_time": "2023-09-13T05:03:27.622370Z",
     "start_time": "2023-09-13T05:03:27.614903Z"
    }
   },
   "id": "eae9753d0d98ceb0"
  },
  {
   "cell_type": "code",
   "execution_count": 92,
   "outputs": [],
   "source": [
    "address_names = []\n",
    "address_numbers = []\n",
    "\n",
    "for i, address in enumerate(df_raw[\"endereco\"].values.tolist()):\n",
    "    address_name = re.sub(r\"\\d+|S/No\", \"\", address)\n",
    "    try:\n",
    "        address_number = re.search(r\"\\d+|S/No\", address).group().replace(\"S/No\", \"S/N\")\n",
    "    except AttributeError:\n",
    "        address_number = \"S/N\"\n",
    "\n",
    "    address_names.append(address_name.strip())\n",
    "    address_numbers.append(address_number.strip())"
   ],
   "metadata": {
    "collapsed": false,
    "ExecuteTime": {
     "end_time": "2023-09-13T05:10:29.383626Z",
     "start_time": "2023-09-13T05:10:29.378894Z"
    }
   },
   "id": "8f9d2533be2964ed"
  },
  {
   "cell_type": "code",
   "execution_count": 94,
   "outputs": [
    {
     "data": {
      "text/plain": "   uuid                               escolas_postos         bairro  \\\n0   178  CENTRO INTEGRADO DE EDUCAÇÃO PÚBLICA HENFIL           CAJU   \n1   634                   EM ALICE DO AMARAL PEIXOTO        BENFICA   \n2   483                           EM CELESTINO SILVA         CENTRO   \n3   476            ESCOLA MUNICIPAL FLORIANO PEIXOTO  SÃO CRISTÓVÃO   \n4   132                            EM PEREIRA PASSOS   RIO COMPRIDO   \n\n                             endereco         lat         lon  \\\n0               RUA CARLOS SEIDL S/No  -22,880888  -43,225326   \n1                       RUA EBANO 187  -22,889574  -43,236202   \n2                  RUA DO LAVRADIO 56  -22,909293  -43,183579   \n3                  PRACA ARGENTINA 20  -22,897629  -43,227456   \n4  PRACA CONDESSA PAULO DE FRONTIN 45  -22,924412  -43,208579   \n\n                        logradouro numero_end  \n0                 RUA CARLOS SEIDL        S/N  \n1                        RUA EBANO        187  \n2                  RUA DO LAVRADIO         56  \n3                  PRACA ARGENTINA         20  \n4  PRACA CONDESSA PAULO DE FRONTIN         45  ",
      "text/html": "<div>\n<style scoped>\n    .dataframe tbody tr th:only-of-type {\n        vertical-align: middle;\n    }\n\n    .dataframe tbody tr th {\n        vertical-align: top;\n    }\n\n    .dataframe thead th {\n        text-align: right;\n    }\n</style>\n<table border=\"1\" class=\"dataframe\">\n  <thead>\n    <tr style=\"text-align: right;\">\n      <th></th>\n      <th>uuid</th>\n      <th>escolas_postos</th>\n      <th>bairro</th>\n      <th>endereco</th>\n      <th>lat</th>\n      <th>lon</th>\n      <th>logradouro</th>\n      <th>numero_end</th>\n    </tr>\n  </thead>\n  <tbody>\n    <tr>\n      <th>0</th>\n      <td>178</td>\n      <td>CENTRO INTEGRADO DE EDUCAÇÃO PÚBLICA HENFIL</td>\n      <td>CAJU</td>\n      <td>RUA CARLOS SEIDL S/No</td>\n      <td>-22,880888</td>\n      <td>-43,225326</td>\n      <td>RUA CARLOS SEIDL</td>\n      <td>S/N</td>\n    </tr>\n    <tr>\n      <th>1</th>\n      <td>634</td>\n      <td>EM ALICE DO AMARAL PEIXOTO</td>\n      <td>BENFICA</td>\n      <td>RUA EBANO 187</td>\n      <td>-22,889574</td>\n      <td>-43,236202</td>\n      <td>RUA EBANO</td>\n      <td>187</td>\n    </tr>\n    <tr>\n      <th>2</th>\n      <td>483</td>\n      <td>EM CELESTINO SILVA</td>\n      <td>CENTRO</td>\n      <td>RUA DO LAVRADIO 56</td>\n      <td>-22,909293</td>\n      <td>-43,183579</td>\n      <td>RUA DO LAVRADIO</td>\n      <td>56</td>\n    </tr>\n    <tr>\n      <th>3</th>\n      <td>476</td>\n      <td>ESCOLA MUNICIPAL FLORIANO PEIXOTO</td>\n      <td>SÃO CRISTÓVÃO</td>\n      <td>PRACA ARGENTINA 20</td>\n      <td>-22,897629</td>\n      <td>-43,227456</td>\n      <td>PRACA ARGENTINA</td>\n      <td>20</td>\n    </tr>\n    <tr>\n      <th>4</th>\n      <td>132</td>\n      <td>EM PEREIRA PASSOS</td>\n      <td>RIO COMPRIDO</td>\n      <td>PRACA CONDESSA PAULO DE FRONTIN 45</td>\n      <td>-22,924412</td>\n      <td>-43,208579</td>\n      <td>PRACA CONDESSA PAULO DE FRONTIN</td>\n      <td>45</td>\n    </tr>\n  </tbody>\n</table>\n</div>"
     },
     "execution_count": 94,
     "metadata": {},
     "output_type": "execute_result"
    }
   ],
   "source": [
    "df_raw[\"logradouro\"] = address_names\n",
    "df_raw[\"numero_end\"] = address_numbers\n",
    "df_raw.head()"
   ],
   "metadata": {
    "collapsed": false,
    "ExecuteTime": {
     "end_time": "2023-09-13T05:11:08.867167Z",
     "start_time": "2023-09-13T05:11:08.861856Z"
    }
   },
   "id": "a63d9cf66a41b605"
  }
 ],
 "metadata": {
  "kernelspec": {
   "display_name": "Python 3",
   "language": "python",
   "name": "python3"
  },
  "language_info": {
   "codemirror_mode": {
    "name": "ipython",
    "version": 2
   },
   "file_extension": ".py",
   "mimetype": "text/x-python",
   "name": "python",
   "nbconvert_exporter": "python",
   "pygments_lexer": "ipython2",
   "version": "2.7.6"
  }
 },
 "nbformat": 4,
 "nbformat_minor": 5
}
